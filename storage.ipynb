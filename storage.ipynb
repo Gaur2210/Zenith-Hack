{
 "cells": [
  {
   "cell_type": "code",
   "execution_count": null,
   "metadata": {
    "vscode": {
     "languageId": "plaintext"
    }
   },
   "outputs": [],
   "source": [
    "from flask import Flask, jsonify\n",
    "import shutil\n",
    "\n",
    "app = Flask(__name__)\n",
    "\n",
    "@app.route('/storage', methods=['GET'])\n",
    "def get_storage_info():\n",
    "    total, used, free = shutil.disk_usage(\"/\")  # Get disk usage details\n",
    "    return jsonify({\"total_space\": total, \"used_space\": used, \"free_space\": free})\n",
    "\n",
    "app.run(host='0.0.0.0', port=5000)"
   ]
  }
 ],
 "metadata": {
  "language_info": {
   "name": "python"
  }
 },
 "nbformat": 4,
 "nbformat_minor": 2
}
